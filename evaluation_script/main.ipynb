{
 "cells": [
  {
   "cell_type": "code",
   "execution_count": 2,
   "metadata": {},
   "outputs": [
    {
     "name": "stdout",
     "output_type": "stream",
     "text": [
      "534 357\n"
     ]
    }
   ],
   "source": [
    "# split test into test_split and test_split_hidden\n",
    "import pandas as pd\n",
    "import random\n",
    "\n",
    "train = pd.read_csv('data/train.csv')\n",
    "\n",
    "# # shuffle test data\n",
    "# train = test.sample(frac=1.0, random_state=22)\n",
    "\n",
    "train_split_size = int(0.6 * len(train))\n",
    "\n",
    "train_split = train[:train_split_size]\n",
    "train_split_hidden = train[train_split_size:]\n",
    "\n",
    "print(len(train_split), len(train_split_hidden))\n",
    "\n",
    "# save files\n",
    "train_split.to_csv('data/train_split.csv', index=False)\n",
    "train_split_hidden.to_csv('data/test_split.csv', index=False)"
   ]
  },
  {
   "cell_type": "code",
   "execution_count": null,
   "metadata": {},
   "outputs": [],
   "source": [
    "# write evaluation script"
   ]
  },
  {
   "cell_type": "code",
   "execution_count": 23,
   "metadata": {},
   "outputs": [],
   "source": [
    "def evaluate(test_annotation_file, user_submission_file, phase_codename, **kwargs):\n",
    "#     print(kwargs[\"submission_metadata\"])\n",
    "    \n",
    "    test_file = \"data/answers.csv\"\n",
    "    \n",
    "    answers = pd.read_csv(test_file)\n",
    "    user = pd.read_csv(user_submission_file)\n",
    "    \n",
    "    submission_result = \"\"\n",
    "    \n",
    "    result = {}\n",
    "    result['result'] = []\n",
    "    result[\"submission_result\"] = submission_result\n",
    "    \n",
    "    if len(user) != len(answers):\n",
    "        submission_result = \"Number of rows in the training data (\"+str(len(answers))+\") and the submission file (\"+str(len(user))+\") don't match.\"\n",
    "        result[\"submission_result\"] = submission_result\n",
    "        return result\n",
    "    \n",
    "    temp = {}\n",
    "    temp[phase_codename] = {}\n",
    "    matches = 0\n",
    "    \n",
    "    for i in range(len(user)):\n",
    "        if user.iloc[i]['label'] == answers.iloc[i]['label']:\n",
    "            matches = matches+1\n",
    "            \n",
    "    accuracy = round((matches/len(user))*100, 3)\n",
    "    print(\"Accuracy:\",accuracy)\n",
    "    \n",
    "    temp[phase_codename]['accuracy'] = accuracy\n",
    "    result['result'].append(temp)\n",
    "    submission_result = \"Evaluated accuracy for \"+str(phase_codename)+\". Accuracy=\"+str(accuracy)\n",
    "    result[\"submission_result\"] = submission_result\n",
    "    \n",
    "    return result\n",
    "    "
   ]
  },
  {
   "cell_type": "code",
   "execution_count": 24,
   "metadata": {},
   "outputs": [
    {
     "name": "stdout",
     "output_type": "stream",
     "text": [
      "Accuracy: 10.071\n"
     ]
    }
   ],
   "source": [
    "result = evaluate('', 'data/submission.csv', 'phase1')"
   ]
  },
  {
   "cell_type": "code",
   "execution_count": 25,
   "metadata": {},
   "outputs": [
    {
     "name": "stdout",
     "output_type": "stream",
     "text": [
      "{'result': [{'phase1': {'accuracy': 10.071}}], 'submission_result': 'Evaluated accuracy for phase1. Accuracy=10.071'}\n"
     ]
    }
   ],
   "source": [
    "print(result)"
   ]
  },
  {
   "cell_type": "code",
   "execution_count": null,
   "metadata": {},
   "outputs": [],
   "source": []
  },
  {
   "cell_type": "code",
   "execution_count": null,
   "metadata": {},
   "outputs": [],
   "source": []
  },
  {
   "cell_type": "code",
   "execution_count": null,
   "metadata": {},
   "outputs": [],
   "source": []
  },
  {
   "cell_type": "markdown",
   "metadata": {},
   "source": [
    "### Model for titanic"
   ]
  },
  {
   "cell_type": "code",
   "execution_count": 8,
   "metadata": {},
   "outputs": [
    {
     "name": "stdout",
     "output_type": "stream",
     "text": [
      "   is_alone  Survived\n",
      "0         0  0.479452\n",
      "1         1  0.323810\n",
      "  Embarked  Survived\n",
      "0        C   0.51000\n",
      "1        Q   0.48000\n",
      "2        S   0.34375\n",
      "       category_fare  Survived\n",
      "0    (-0.001, 7.925]  0.248227\n",
      "1    (7.925, 14.454]  0.307087\n",
      "2   (14.454, 29.978]  0.462121\n",
      "3  (29.978, 512.329]  0.537313\n",
      "     category_age  Survived\n",
      "0  (-0.071, 14.2]  0.566038\n",
      "1    (14.2, 28.4]  0.339207\n",
      "2    (28.4, 42.6]  0.423077\n",
      "3    (42.6, 56.8]  0.326923\n",
      "4    (56.8, 71.0]  0.300000\n"
     ]
    },
    {
     "name": "stderr",
     "output_type": "stream",
     "text": [
      "C:\\Users\\nabhu\\Anaconda3\\lib\\site-packages\\ipykernel_launcher.py:39: SettingWithCopyWarning: \n",
      "A value is trying to be set on a copy of a slice from a DataFrame\n",
      "\n",
      "See the caveats in the documentation: http://pandas.pydata.org/pandas-docs/stable/indexing.html#indexing-view-versus-copy\n"
     ]
    },
    {
     "name": "stdout",
     "output_type": "stream",
     "text": [
      "Sex     female  male\n",
      "title               \n",
      "Master       0    26\n",
      "Miss       121     0\n",
      "Mr           0   302\n",
      "Mrs         77     0\n",
      "Rare         0     8\n",
      "----------------------\n",
      "    title  Survived\n",
      "0  Master  0.500000\n",
      "1    Miss  0.710744\n",
      "2      Mr  0.145695\n",
      "3     Mrs  0.818182\n",
      "4    Rare  0.125000\n",
      "   Survived  Pclass  Sex  Age  Fare  Embarked  is_alone  title\n",
      "0         0       3    1    1     0         0         0      1\n",
      "1         1       1    0    2     3         1         0      3\n",
      "2         1       3    0    1     1         0         1      2\n",
      "3         1       1    0    2     3         0         0      3\n",
      "4         0       3    1    2     1         0         1      1\n",
      "5         0       3    1    1     1         2         1      1\n",
      "6         0       1    1    3     3         0         1      1\n",
      "7         0       3    1    0     2         0         0      4\n",
      "8         1       3    0    1     1         0         0      3\n",
      "9         1       2    0    0     2         1         0      3\n"
     ]
    },
    {
     "ename": "ValueError",
     "evalue": "Number of features of the model must match the input. Model n_features is 7 and input n_features is 8 ",
     "output_type": "error",
     "traceback": [
      "\u001b[1;31m---------------------------------------------------------------------------\u001b[0m",
      "\u001b[1;31mValueError\u001b[0m                                Traceback (most recent call last)",
      "\u001b[1;32m<ipython-input-8-122364f843eb>\u001b[0m in \u001b[0;36m<module>\u001b[1;34m()\u001b[0m\n\u001b[0;32m    114\u001b[0m \u001b[0mdecision_tree\u001b[0m \u001b[1;33m=\u001b[0m \u001b[0mDecisionTreeClassifier\u001b[0m\u001b[1;33m(\u001b[0m\u001b[1;33m)\u001b[0m\u001b[1;33m\u001b[0m\u001b[0m\n\u001b[0;32m    115\u001b[0m \u001b[0mdecision_tree\u001b[0m\u001b[1;33m.\u001b[0m\u001b[0mfit\u001b[0m\u001b[1;33m(\u001b[0m\u001b[0mX_train\u001b[0m\u001b[1;33m,\u001b[0m \u001b[0mY_train\u001b[0m\u001b[1;33m)\u001b[0m\u001b[1;33m\u001b[0m\u001b[0m\n\u001b[1;32m--> 116\u001b[1;33m \u001b[0mY_pred\u001b[0m \u001b[1;33m=\u001b[0m \u001b[0mdecision_tree\u001b[0m\u001b[1;33m.\u001b[0m\u001b[0mpredict\u001b[0m\u001b[1;33m(\u001b[0m\u001b[0mX_test\u001b[0m\u001b[1;33m)\u001b[0m\u001b[1;33m\u001b[0m\u001b[0m\n\u001b[0m\u001b[0;32m    117\u001b[0m \u001b[0maccuracy\u001b[0m \u001b[1;33m=\u001b[0m \u001b[0mround\u001b[0m\u001b[1;33m(\u001b[0m\u001b[0mdecision_tree\u001b[0m\u001b[1;33m.\u001b[0m\u001b[0mscore\u001b[0m\u001b[1;33m(\u001b[0m\u001b[0mX_train\u001b[0m\u001b[1;33m,\u001b[0m \u001b[0mY_train\u001b[0m\u001b[1;33m)\u001b[0m \u001b[1;33m*\u001b[0m \u001b[1;36m100\u001b[0m\u001b[1;33m,\u001b[0m \u001b[1;36m2\u001b[0m\u001b[1;33m)\u001b[0m\u001b[1;33m\u001b[0m\u001b[0m\n\u001b[0;32m    118\u001b[0m \u001b[0mprint\u001b[0m\u001b[1;33m(\u001b[0m\u001b[1;34m\"Model Accuracy: \"\u001b[0m\u001b[1;33m,\u001b[0m\u001b[0maccuracy\u001b[0m\u001b[1;33m)\u001b[0m\u001b[1;33m\u001b[0m\u001b[0m\n",
      "\u001b[1;32m~\\Anaconda3\\lib\\site-packages\\sklearn\\tree\\tree.py\u001b[0m in \u001b[0;36mpredict\u001b[1;34m(self, X, check_input)\u001b[0m\n\u001b[0;32m    410\u001b[0m         \"\"\"\n\u001b[0;32m    411\u001b[0m         \u001b[0mcheck_is_fitted\u001b[0m\u001b[1;33m(\u001b[0m\u001b[0mself\u001b[0m\u001b[1;33m,\u001b[0m \u001b[1;34m'tree_'\u001b[0m\u001b[1;33m)\u001b[0m\u001b[1;33m\u001b[0m\u001b[0m\n\u001b[1;32m--> 412\u001b[1;33m         \u001b[0mX\u001b[0m \u001b[1;33m=\u001b[0m \u001b[0mself\u001b[0m\u001b[1;33m.\u001b[0m\u001b[0m_validate_X_predict\u001b[0m\u001b[1;33m(\u001b[0m\u001b[0mX\u001b[0m\u001b[1;33m,\u001b[0m \u001b[0mcheck_input\u001b[0m\u001b[1;33m)\u001b[0m\u001b[1;33m\u001b[0m\u001b[0m\n\u001b[0m\u001b[0;32m    413\u001b[0m         \u001b[0mproba\u001b[0m \u001b[1;33m=\u001b[0m \u001b[0mself\u001b[0m\u001b[1;33m.\u001b[0m\u001b[0mtree_\u001b[0m\u001b[1;33m.\u001b[0m\u001b[0mpredict\u001b[0m\u001b[1;33m(\u001b[0m\u001b[0mX\u001b[0m\u001b[1;33m)\u001b[0m\u001b[1;33m\u001b[0m\u001b[0m\n\u001b[0;32m    414\u001b[0m         \u001b[0mn_samples\u001b[0m \u001b[1;33m=\u001b[0m \u001b[0mX\u001b[0m\u001b[1;33m.\u001b[0m\u001b[0mshape\u001b[0m\u001b[1;33m[\u001b[0m\u001b[1;36m0\u001b[0m\u001b[1;33m]\u001b[0m\u001b[1;33m\u001b[0m\u001b[0m\n",
      "\u001b[1;32m~\\Anaconda3\\lib\\site-packages\\sklearn\\tree\\tree.py\u001b[0m in \u001b[0;36m_validate_X_predict\u001b[1;34m(self, X, check_input)\u001b[0m\n\u001b[0;32m    382\u001b[0m                              \u001b[1;34m\"match the input. Model n_features is %s and \"\u001b[0m\u001b[1;33m\u001b[0m\u001b[0m\n\u001b[0;32m    383\u001b[0m                              \u001b[1;34m\"input n_features is %s \"\u001b[0m\u001b[1;33m\u001b[0m\u001b[0m\n\u001b[1;32m--> 384\u001b[1;33m                              % (self.n_features_, n_features))\n\u001b[0m\u001b[0;32m    385\u001b[0m \u001b[1;33m\u001b[0m\u001b[0m\n\u001b[0;32m    386\u001b[0m         \u001b[1;32mreturn\u001b[0m \u001b[0mX\u001b[0m\u001b[1;33m\u001b[0m\u001b[0m\n",
      "\u001b[1;31mValueError\u001b[0m: Number of features of the model must match the input. Model n_features is 7 and input n_features is 8 "
     ]
    }
   ],
   "source": [
    "import pandas as pd\n",
    "import numpy as np\n",
    "import re\n",
    "\n",
    "#Training (891 Entries) & Testing (417 Entries) data\n",
    "train_data = pd.read_csv('data/train_split.csv')\n",
    "test_data = pd.read_csv('data/test_split.csv')\n",
    "all_data = [train_data, test_data]\n",
    "passenger_id = test_data['PassengerId']\n",
    "\n",
    "#Feature 3: Family Size\n",
    "for data in all_data:\n",
    "    data['family_size'] = data['SibSp'] + data['Parch'] + 1\n",
    "\n",
    "#Feature 3.1: Is alone?\n",
    "for data in all_data:\n",
    "    data['is_alone'] = 0\n",
    "    data.loc[data['family_size'] == 1, 'is_alone'] = 1\n",
    "print (train_data[['is_alone', 'Survived']].groupby(['is_alone'], as_index=False).mean())\n",
    "\n",
    "#Feature 4: Embarked\n",
    "for data in all_data:\n",
    "    data['Embarked'] = data['Embarked'].fillna('S')\n",
    "print( train_data[[\"Embarked\",\"Survived\"]].groupby([\"Embarked\"], as_index = False).mean() )\n",
    "\n",
    "#Feature 5: Fare\n",
    "for data in all_data:\n",
    "    data['Fare'] = data['Fare'].fillna(data['Fare'].median())\n",
    "train_data['category_fare'] = pd.qcut(train_data['Fare'], 4)\n",
    "print( train_data[[\"category_fare\",\"Survived\"]].groupby([\"category_fare\"], as_index = False).mean() )\n",
    "\n",
    "#Feature 6: Age\n",
    "for data in all_data:\n",
    "    age_avg  = data['Age'].mean()\n",
    "    age_std  = data['Age'].std()\n",
    "    age_null = data['Age'].isnull().sum()\n",
    "\n",
    "    random_list = np.random.randint(age_avg - age_std, age_avg + age_std , size = age_null)\n",
    "    data['Age'][np.isnan(data['Age'])] = random_list\n",
    "    data['Age'] = data['Age'].astype(int)\n",
    "\n",
    "train_data['category_age'] = pd.cut(train_data['Age'], 5)\n",
    "print( train_data[[\"category_age\",\"Survived\"]].groupby([\"category_age\"], as_index = False).mean() )\n",
    "\n",
    "#Feature 7: Name\n",
    "def get_title(name):\n",
    "    title_search = re.search(' ([A-Za-z]+)\\. ', name)\n",
    "    if title_search:\n",
    "        return title_search.group(1)\n",
    "    return \"\"\n",
    "\n",
    "for data in all_data:\n",
    "    data['title'] = data['Name'].apply(get_title)\n",
    "\n",
    "for data in all_data:\n",
    "    data['title'] = data['title'].replace(['Lady', 'Countess','Capt', 'Col','Don', 'Dr', 'Major', 'Rev', 'Sir', 'Jonkheer', 'Dona'],'Rare')\n",
    "    data['title'] = data['title'].replace('Mlle','Miss')\n",
    "    data['title'] = data['title'].replace('Ms','Miss')\n",
    "    data['title'] = data['title'].replace('Mme','Mrs')\n",
    "    \n",
    "print(pd.crosstab(train_data['title'], train_data['Sex']))\n",
    "print(\"----------------------\")\n",
    "print(train_data[['title','Survived']].groupby(['title'], as_index = False).mean())\n",
    "\n",
    "#Map Data\n",
    "for data in all_data:\n",
    "\n",
    "    #Mapping Sex\n",
    "    sex_map = { 'female':0 , 'male':1 }\n",
    "    data['Sex'] = data['Sex'].map(sex_map).astype(int)\n",
    "\n",
    "    #Mapping Title\n",
    "    title_map = {'Mr':1, 'Miss':2, 'Mrs':3, 'Master':4, 'Rare':5}\n",
    "    data['title'] = data['title'].map(title_map)\n",
    "    data['title'] = data['title'].fillna(0)\n",
    "\n",
    "    #Mapping Embarked\n",
    "    embark_map = {'S':0, 'C':1, 'Q':2}\n",
    "    data['Embarked'] = data['Embarked'].map(embark_map).astype(int)\n",
    "\n",
    "    #Mapping Fare\n",
    "    data.loc[ data['Fare'] <= 7.91, 'Fare']                            = 0\n",
    "    data.loc[(data['Fare'] > 7.91) & (data['Fare'] <= 14.454), 'Fare'] = 1\n",
    "    data.loc[(data['Fare'] > 14.454) & (data['Fare'] <= 31), 'Fare']   = 2\n",
    "    data.loc[ data['Fare'] > 31, 'Fare']                               = 3\n",
    "    data['Fare'] = data['Fare'].astype(int)\n",
    "\n",
    "    #Mapping Age\n",
    "    data.loc[ data['Age'] <= 16, 'Age']                       = 0\n",
    "    data.loc[(data['Age'] > 16) & (data['Age'] <= 32), 'Age'] = 1\n",
    "    data.loc[(data['Age'] > 32) & (data['Age'] <= 48), 'Age'] = 2\n",
    "    data.loc[(data['Age'] > 48) & (data['Age'] <= 64), 'Age'] = 3\n",
    "    data.loc[ data['Age'] > 64, 'Age']                        = 4\n",
    "\n",
    "#Feature Selection\n",
    "#Create list of columns to drop\n",
    "drop_elements = [\"Name\", \"Ticket\", \"Cabin\", \"SibSp\", \"Parch\", \"family_size\"]\n",
    "\n",
    "#Drop columns from both data sets\n",
    "train_data = train_data.drop(drop_elements, axis = 1)\n",
    "train_data = train_data.drop(['PassengerId','category_fare', 'category_age'], axis = 1)\n",
    "test_data = test_data.drop(drop_elements, axis = 1)\n",
    "\n",
    "#Print ready to use data\n",
    "print(train_data.head(10))\n",
    "\n",
    "X_train = train_data.drop(\"Survived\", axis=1)\n",
    "Y_train = train_data[\"Survived\"]\n",
    "X_test  = test_data.drop(\"PassengerId\", axis=1).copy()\n",
    "\n",
    "#Running our classifier\n",
    "from sklearn.tree import DecisionTreeClassifier\n",
    "\n",
    "decision_tree = DecisionTreeClassifier()\n",
    "decision_tree.fit(X_train, Y_train)\n",
    "Y_pred = decision_tree.predict(X_test)\n",
    "accuracy = round(decision_tree.score(X_train, Y_train) * 100, 2)\n",
    "print(\"Model Accuracy: \",accuracy)"
   ]
  },
  {
   "cell_type": "markdown",
   "metadata": {},
   "source": []
  },
  {
   "cell_type": "markdown",
   "metadata": {},
   "source": []
  },
  {
   "cell_type": "markdown",
   "metadata": {},
   "source": []
  },
  {
   "cell_type": "markdown",
   "metadata": {},
   "source": []
  },
  {
   "cell_type": "markdown",
   "metadata": {},
   "source": []
  }
 ],
 "metadata": {
  "kernelspec": {
   "display_name": "Python 3",
   "language": "python",
   "name": "python3"
  },
  "language_info": {
   "codemirror_mode": {
    "name": "ipython",
    "version": 3
   },
   "file_extension": ".py",
   "mimetype": "text/x-python",
   "name": "python",
   "nbconvert_exporter": "python",
   "pygments_lexer": "ipython3",
   "version": "3.6.5"
  }
 },
 "nbformat": 4,
 "nbformat_minor": 2
}
