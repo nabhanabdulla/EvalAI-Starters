{
 "cells": [
  {
   "cell_type": "code",
   "execution_count": 11,
   "metadata": {},
   "outputs": [
    {
     "name": "stdout",
     "output_type": "stream",
     "text": [
      "250 168\n"
     ]
    }
   ],
   "source": [
    "# split test into test_split and test_split_hidden\n",
    "import pandas as pd\n",
    "import random\n",
    "\n",
    "test = pd.read_csv('data/test.csv')\n",
    "\n",
    "# shuffle test data\n",
    "test = test.sample(frac=1.0, random_state=22)\n",
    "\n",
    "test_split_size = int(0.6 * len(test))\n",
    "\n",
    "test_split = test[:test_split_size]\n",
    "test_split_hidden = test[test_split_size:]\n",
    "\n",
    "print(len(test_split), len(test_split_hidden))\n",
    "\n",
    "# save files\n",
    "test_split.to_csv('data/test_split.csv', index=False)\n",
    "test_split_hidden.to_csv('data/test_split_hidden.csv', index=False)"
   ]
  },
  {
   "cell_type": "code",
   "execution_count": null,
   "metadata": {},
   "outputs": [],
   "source": [
    "# write evaluation script"
   ]
  },
  {
   "cell_type": "code",
   "execution_count": 23,
   "metadata": {},
   "outputs": [],
   "source": [
    "def evaluate(test_annotation_file, user_submission_file, phase_codename, **kwargs):\n",
    "#     print(kwargs[\"submission_metadata\"])\n",
    "    \n",
    "    test_file = \"data/answers.csv\"\n",
    "    \n",
    "    answers = pd.read_csv(test_file)\n",
    "    user = pd.read_csv(user_submission_file)\n",
    "    \n",
    "    submission_result = \"\"\n",
    "    \n",
    "    result = {}\n",
    "    result['result'] = []\n",
    "    result[\"submission_result\"] = submission_result\n",
    "    \n",
    "    if len(user) != len(answers):\n",
    "        submission_result = \"Number of rows in the training data (\"+str(len(answers))+\") and the submission file (\"+str(len(user))+\") don't match.\"\n",
    "        result[\"submission_result\"] = submission_result\n",
    "        return result\n",
    "    \n",
    "    temp = {}\n",
    "    temp[phase_codename] = {}\n",
    "    matches = 0\n",
    "    \n",
    "    for i in range(len(user)):\n",
    "        if user.iloc[i]['label'] == answers.iloc[i]['label']:\n",
    "            matches = matches+1\n",
    "            \n",
    "    accuracy = round((matches/len(user))*100, 3)\n",
    "    print(\"Accuracy:\",accuracy)\n",
    "    \n",
    "    temp[phase_codename]['accuracy'] = accuracy\n",
    "    result['result'].append(temp)\n",
    "    submission_result = \"Evaluated accuracy for \"+str(phase_codename)+\". Accuracy=\"+str(accuracy)\n",
    "    result[\"submission_result\"] = submission_result\n",
    "    \n",
    "    return result\n",
    "    "
   ]
  },
  {
   "cell_type": "code",
   "execution_count": 24,
   "metadata": {},
   "outputs": [
    {
     "name": "stdout",
     "output_type": "stream",
     "text": [
      "Accuracy: 10.071\n"
     ]
    }
   ],
   "source": [
    "result = evaluate('', 'data/submission.csv', 'phase1')"
   ]
  },
  {
   "cell_type": "code",
   "execution_count": 25,
   "metadata": {},
   "outputs": [
    {
     "name": "stdout",
     "output_type": "stream",
     "text": [
      "{'result': [{'phase1': {'accuracy': 10.071}}], 'submission_result': 'Evaluated accuracy for phase1. Accuracy=10.071'}\n"
     ]
    }
   ],
   "source": [
    "print(result)"
   ]
  },
  {
   "cell_type": "markdown",
   "metadata": {},
   "source": []
  }
 ],
 "metadata": {
  "kernelspec": {
   "display_name": "Python 3",
   "language": "python",
   "name": "python3"
  },
  "language_info": {
   "codemirror_mode": {
    "name": "ipython",
    "version": 3
   },
   "file_extension": ".py",
   "mimetype": "text/x-python",
   "name": "python",
   "nbconvert_exporter": "python",
   "pygments_lexer": "ipython3",
   "version": "3.6.5"
  }
 },
 "nbformat": 4,
 "nbformat_minor": 2
}
